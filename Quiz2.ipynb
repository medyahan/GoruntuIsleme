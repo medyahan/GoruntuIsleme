#!/usr/bin/env python
# coding: utf-8

# In[2]:


import os 
import numpy as np
import matplotlib.pyplot as plt


# In[14]:


def get_value_from_triple(temp):
    #temp=im_1[0,0,:]
    return int(temp[0]/3+temp[1]/3+temp[2]/3)
get_value_from_triple(im_1[10,10,:])


# In[15]:


def convert_rgb_to_gray(im_1):
    m,n,k = im_1.shape
    new=np.zeros((m,n),dtype='uint8')
    for i in range (m):
        for j in range(n):
            s=get_value_from_triple(im_1[i,j,:])
            new[i,j]=s
    return new


# In[18]:


im_2=convert_rgb_to_gray(im_1)


# In[20]:


plt.subplot(1,2,1)
plt.imshow(im_1)

plt.subplot(1,2,2)
plt.imshow(im_2,cmap="gray")

plt.show()


# In[22]:


plt.imsave('gray.jpg',im_2,cmap='gray')


# In[24]:


im_1=plt.imread('anit.jpg')


# In[28]:


def get_0_1_from_triple(temp):
    #temp=im_1[0,0,:]
    temp=int(temp[0]/3+temp[1]/3+temp[2]/3)
    if temp<110:
        return 0
    else:
        return 1
get_0_1_from_triple(im_1[10,10,:])


# In[30]:


def convert_rgb_to_bw(im_1):
    m,n,k = im_1.shape
    new=np.zeros((m,n),dtype='uint8')
    for i in range (m):
        for j in range(n):
            s=get_0_1_from_triple(im_1[i,j,:])
            new[i,j]=s
    return new


# In[35]:


im_1=plt.imread('anit.jpg')
im_1_gray=convert_rgb_to_gray(im_1)
im_1_bw=convert_rgb_to_bw(im_1)


# In[37]:


plt.subplot(1,3,1)
plt.imshow(im_1)

plt.subplot(1,3,2)
plt.imshow(im_1_gray,cmap="gray")

plt.subplot(1,3,3)
plt.imshow(im_1_bw,cmap="gray")

plt.show()


# In[ ]:

